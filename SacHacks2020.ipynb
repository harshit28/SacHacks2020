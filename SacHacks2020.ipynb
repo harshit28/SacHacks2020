{
 "cells": [
  {
   "cell_type": "code",
   "execution_count": 319,
   "metadata": {},
   "outputs": [],
   "source": [
    "#Import important libraries\n",
    "import pandas as pd\n",
    "import numpy as np\n",
    "import matplotlib.pyplot as plt\n",
    "import requests as req\n",
    "import sklearn\n",
    "from sklearn.model_selection import cross_val_score\n",
    "from sklearn.model_selection import train_test_split \n",
    "from sklearn.linear_model import LogisticRegression\n",
    "from sklearn.naive_bayes import GaussianNB\n",
    "from sklearn.ensemble import RandomForestClassifier\n",
    "from sklearn.ensemble import GradientBoostingClassifier\n",
    "from sklearn.neighbors import KNeighborsClassifier\n",
    "from sklearn.tree import DecisionTreeClassifier\n",
    "from sklearn.discriminant_analysis import LinearDiscriminantAnalysis\n",
    "from sklearn.ensemble import VotingClassifier\n",
    "from sklearn.ensemble import BaggingClassifier"
   ]
  },
  {
   "cell_type": "code",
   "execution_count": 3,
   "metadata": {},
   "outputs": [],
   "source": [
    "data = pd.read_csv('H:\\Sacahcks\\Medicare_Provider_Utilization_and_Payment_Data__2017_Part_D_Prescriber.csv')"
   ]
  },
  {
   "cell_type": "code",
   "execution_count": 320,
   "metadata": {},
   "outputs": [],
   "source": [
    "sub_data = pd.read_csv('H:\\Sacahcks\\sub_data.csv')"
   ]
  },
  {
   "cell_type": "code",
   "execution_count": 321,
   "metadata": {},
   "outputs": [
    {
     "data": {
      "text/plain": [
       "(25209130, 21)"
      ]
     },
     "execution_count": 321,
     "metadata": {},
     "output_type": "execute_result"
    }
   ],
   "source": [
    "data.shape"
   ]
  },
  {
   "cell_type": "code",
   "execution_count": 322,
   "metadata": {},
   "outputs": [],
   "source": [
    "opioid_data  = pd.read_excel('H:\\Sacahcks\\OpioidMedicationsIntheDataSet.xlsx')"
   ]
  },
  {
   "cell_type": "code",
   "execution_count": 323,
   "metadata": {},
   "outputs": [],
   "source": [
    "#pay_zip['Recipient_Zip_Code'] = pay_zip['Recipient_Zip_Code'][0:5].astype(int)\n",
    "#pay_zip['Total_Amount_of_Payment_USDollars'] = pay_zip['Total_Amount_of_Payment_USDollars'].astype(int)\n",
    "#pay_zip.to_csv('pay_zip_state.csv')\n",
    "#pay_zip.to_csv('pay_zip_conv.csv')"
   ]
  },
  {
   "cell_type": "code",
   "execution_count": 324,
   "metadata": {},
   "outputs": [],
   "source": [
    "#take the part of the data from main data using given opioid medications\n",
    "sub_data = data.loc[data['generic_name'].isin(list(opioid_data['Opioid Medications'][:]))]"
   ]
  },
  {
   "cell_type": "code",
   "execution_count": 325,
   "metadata": {},
   "outputs": [],
   "source": [
    "#count of generic_name/drug_name \n",
    "y = sub_data['generic_name'].value_counts()"
   ]
  },
  {
   "cell_type": "code",
   "execution_count": 326,
   "metadata": {},
   "outputs": [
    {
     "data": {
      "text/html": [
       "<div>\n",
       "<style scoped>\n",
       "    .dataframe tbody tr th:only-of-type {\n",
       "        vertical-align: middle;\n",
       "    }\n",
       "\n",
       "    .dataframe tbody tr th {\n",
       "        vertical-align: top;\n",
       "    }\n",
       "\n",
       "    .dataframe thead th {\n",
       "        text-align: right;\n",
       "    }\n",
       "</style>\n",
       "<table border=\"1\" class=\"dataframe\">\n",
       "  <thead>\n",
       "    <tr style=\"text-align: right;\">\n",
       "      <th></th>\n",
       "      <th>npi</th>\n",
       "      <th>nppes_provider_last_org_name</th>\n",
       "      <th>nppes_provider_first_name</th>\n",
       "      <th>nppes_provider_city</th>\n",
       "      <th>nppes_provider_state</th>\n",
       "      <th>specialty_description</th>\n",
       "      <th>description_flag</th>\n",
       "      <th>drug_name</th>\n",
       "      <th>generic_name</th>\n",
       "      <th>bene_count</th>\n",
       "      <th>...</th>\n",
       "      <th>total_30_day_fill_count</th>\n",
       "      <th>total_day_supply</th>\n",
       "      <th>total_drug_cost</th>\n",
       "      <th>bene_count_ge65</th>\n",
       "      <th>bene_count_ge65_suppress_flag</th>\n",
       "      <th>total_claim_count_ge65</th>\n",
       "      <th>ge65_suppress_flag</th>\n",
       "      <th>total_30_day_fill_count_ge65</th>\n",
       "      <th>total_day_supply_ge65</th>\n",
       "      <th>total_drug_cost_ge65</th>\n",
       "    </tr>\n",
       "  </thead>\n",
       "  <tbody>\n",
       "    <tr>\n",
       "      <th>13</th>\n",
       "      <td>1477804466</td>\n",
       "      <td>ROBINSON</td>\n",
       "      <td>LAKEESHA</td>\n",
       "      <td>MILWAUKEE</td>\n",
       "      <td>WI</td>\n",
       "      <td>Nurse Practitioner</td>\n",
       "      <td>S</td>\n",
       "      <td>MORPHINE SULFATE ER</td>\n",
       "      <td>MORPHINE SULFATE</td>\n",
       "      <td>NaN</td>\n",
       "      <td>...</td>\n",
       "      <td>19.0</td>\n",
       "      <td>570</td>\n",
       "      <td>874.27</td>\n",
       "      <td>0.0</td>\n",
       "      <td>NaN</td>\n",
       "      <td>0.0</td>\n",
       "      <td>NaN</td>\n",
       "      <td>0.0</td>\n",
       "      <td>0.0</td>\n",
       "      <td>0.00</td>\n",
       "    </tr>\n",
       "    <tr>\n",
       "      <th>52</th>\n",
       "      <td>1740288091</td>\n",
       "      <td>GEHRING</td>\n",
       "      <td>DAVID</td>\n",
       "      <td>WOODBURY</td>\n",
       "      <td>NJ</td>\n",
       "      <td>Family Practice</td>\n",
       "      <td>S</td>\n",
       "      <td>HYDROCODONE-ACETAMINOPHEN</td>\n",
       "      <td>HYDROCODONE/ACETAMINOPHEN</td>\n",
       "      <td>NaN</td>\n",
       "      <td>...</td>\n",
       "      <td>30.0</td>\n",
       "      <td>745</td>\n",
       "      <td>555.88</td>\n",
       "      <td>NaN</td>\n",
       "      <td>*</td>\n",
       "      <td>NaN</td>\n",
       "      <td>*</td>\n",
       "      <td>NaN</td>\n",
       "      <td>NaN</td>\n",
       "      <td>NaN</td>\n",
       "    </tr>\n",
       "    <tr>\n",
       "      <th>70</th>\n",
       "      <td>1801810007</td>\n",
       "      <td>ADLER</td>\n",
       "      <td>BRIAN</td>\n",
       "      <td>SURFSIDE BEACH</td>\n",
       "      <td>SC</td>\n",
       "      <td>Internal Medicine</td>\n",
       "      <td>S</td>\n",
       "      <td>ACETAMINOPHEN-CODEINE</td>\n",
       "      <td>ACETAMINOPHEN WITH CODEINE</td>\n",
       "      <td>NaN</td>\n",
       "      <td>...</td>\n",
       "      <td>12.0</td>\n",
       "      <td>161</td>\n",
       "      <td>103.83</td>\n",
       "      <td>NaN</td>\n",
       "      <td>*</td>\n",
       "      <td>12.0</td>\n",
       "      <td>NaN</td>\n",
       "      <td>12.0</td>\n",
       "      <td>161.0</td>\n",
       "      <td>103.83</td>\n",
       "    </tr>\n",
       "    <tr>\n",
       "      <th>91</th>\n",
       "      <td>1437482346</td>\n",
       "      <td>GRAY</td>\n",
       "      <td>DONNA</td>\n",
       "      <td>SALISBURY</td>\n",
       "      <td>MD</td>\n",
       "      <td>Nurse Practitioner</td>\n",
       "      <td>S</td>\n",
       "      <td>TRAMADOL HCL</td>\n",
       "      <td>TRAMADOL HCL</td>\n",
       "      <td>NaN</td>\n",
       "      <td>...</td>\n",
       "      <td>23.0</td>\n",
       "      <td>675</td>\n",
       "      <td>156.69</td>\n",
       "      <td>NaN</td>\n",
       "      <td>#</td>\n",
       "      <td>NaN</td>\n",
       "      <td>#</td>\n",
       "      <td>NaN</td>\n",
       "      <td>NaN</td>\n",
       "      <td>NaN</td>\n",
       "    </tr>\n",
       "    <tr>\n",
       "      <th>100</th>\n",
       "      <td>1568402501</td>\n",
       "      <td>BUSCH</td>\n",
       "      <td>JULIE</td>\n",
       "      <td>SAINT LOUIS</td>\n",
       "      <td>MO</td>\n",
       "      <td>Family Practice</td>\n",
       "      <td>S</td>\n",
       "      <td>HYDROCODONE-ACETAMINOPHEN</td>\n",
       "      <td>HYDROCODONE/ACETAMINOPHEN</td>\n",
       "      <td>13.0</td>\n",
       "      <td>...</td>\n",
       "      <td>52.0</td>\n",
       "      <td>1174</td>\n",
       "      <td>1284.58</td>\n",
       "      <td>NaN</td>\n",
       "      <td>#</td>\n",
       "      <td>34.0</td>\n",
       "      <td>NaN</td>\n",
       "      <td>40.0</td>\n",
       "      <td>854.0</td>\n",
       "      <td>1089.58</td>\n",
       "    </tr>\n",
       "  </tbody>\n",
       "</table>\n",
       "<p>5 rows × 21 columns</p>\n",
       "</div>"
      ],
      "text/plain": [
       "            npi nppes_provider_last_org_name nppes_provider_first_name  \\\n",
       "13   1477804466                     ROBINSON                  LAKEESHA   \n",
       "52   1740288091                      GEHRING                     DAVID   \n",
       "70   1801810007                        ADLER                     BRIAN   \n",
       "91   1437482346                         GRAY                     DONNA   \n",
       "100  1568402501                        BUSCH                     JULIE   \n",
       "\n",
       "    nppes_provider_city nppes_provider_state specialty_description  \\\n",
       "13            MILWAUKEE                   WI    Nurse Practitioner   \n",
       "52             WOODBURY                   NJ       Family Practice   \n",
       "70       SURFSIDE BEACH                   SC     Internal Medicine   \n",
       "91            SALISBURY                   MD    Nurse Practitioner   \n",
       "100         SAINT LOUIS                   MO       Family Practice   \n",
       "\n",
       "    description_flag                  drug_name                generic_name  \\\n",
       "13                 S        MORPHINE SULFATE ER            MORPHINE SULFATE   \n",
       "52                 S  HYDROCODONE-ACETAMINOPHEN   HYDROCODONE/ACETAMINOPHEN   \n",
       "70                 S      ACETAMINOPHEN-CODEINE  ACETAMINOPHEN WITH CODEINE   \n",
       "91                 S               TRAMADOL HCL                TRAMADOL HCL   \n",
       "100                S  HYDROCODONE-ACETAMINOPHEN   HYDROCODONE/ACETAMINOPHEN   \n",
       "\n",
       "     bene_count  ...  total_30_day_fill_count  total_day_supply  \\\n",
       "13          NaN  ...                     19.0               570   \n",
       "52          NaN  ...                     30.0               745   \n",
       "70          NaN  ...                     12.0               161   \n",
       "91          NaN  ...                     23.0               675   \n",
       "100        13.0  ...                     52.0              1174   \n",
       "\n",
       "     total_drug_cost  bene_count_ge65  bene_count_ge65_suppress_flag  \\\n",
       "13            874.27              0.0                            NaN   \n",
       "52            555.88              NaN                              *   \n",
       "70            103.83              NaN                              *   \n",
       "91            156.69              NaN                              #   \n",
       "100          1284.58              NaN                              #   \n",
       "\n",
       "    total_claim_count_ge65  ge65_suppress_flag total_30_day_fill_count_ge65  \\\n",
       "13                     0.0                 NaN                          0.0   \n",
       "52                     NaN                   *                          NaN   \n",
       "70                    12.0                 NaN                         12.0   \n",
       "91                     NaN                   #                          NaN   \n",
       "100                   34.0                 NaN                         40.0   \n",
       "\n",
       "     total_day_supply_ge65  total_drug_cost_ge65  \n",
       "13                     0.0                  0.00  \n",
       "52                     NaN                   NaN  \n",
       "70                   161.0                103.83  \n",
       "91                     NaN                   NaN  \n",
       "100                  854.0               1089.58  \n",
       "\n",
       "[5 rows x 21 columns]"
      ]
     },
     "execution_count": 326,
     "metadata": {},
     "output_type": "execute_result"
    }
   ],
   "source": [
    "#printing the first five raws of data\n",
    "sub_data.head(5)"
   ]
  },
  {
   "cell_type": "code",
   "execution_count": 327,
   "metadata": {},
   "outputs": [
    {
     "data": {
      "image/png": "[encoded data removed]",
      "text/plain": [
       "<Figure size 1080x720 with 1 Axes>"
      ]
     },
     "metadata": {},
     "output_type": "display_data"
    }
   ],
   "source": [
    "#plotting the graph for the count of generic_name\n",
    "fig, ax1 = plt.subplots(1,1,figsize=(15,10))\n",
    "y.plot(kind=\"bar\", ax=ax1, title=\"Counts for generic names\")\n",
    "plt.rc('xtick',labelsize=15)\n"
   ]
  },
  {
   "cell_type": "code",
   "execution_count": 328,
   "metadata": {},
   "outputs": [],
   "source": [
    "#save the plot as a figure\n",
    "fig.savefig('generic_names_count.png',dpi=450)"
   ]
  },
  {
   "cell_type": "code",
   "execution_count": 329,
   "metadata": {},
   "outputs": [
    {
     "data": {
      "text/plain": [
       "1134167455    31\n",
       "1215924154    31\n",
       "1497953749    31\n",
       "1861572653    30\n",
       "1952383887    30\n",
       "1801819206    29\n",
       "1144227596    29\n",
       "1780672543    29\n",
       "1366485229    29\n",
       "1558460261    29\n",
       "1447238415    29\n",
       "1538117049    29\n",
       "1114938586    28\n",
       "1538130018    28\n",
       "1356410443    28\n",
       "1760418131    28\n",
       "1811931546    28\n",
       "1710085196    28\n",
       "1669437869    28\n",
       "1558353078    28\n",
       "1689785073    28\n",
       "1356427850    28\n",
       "1689865891    28\n",
       "1497778005    27\n",
       "1588812762    27\n",
       "1912993478    27\n",
       "1841322104    27\n",
       "1609912351    27\n",
       "1043245749    27\n",
       "1619978236    27\n",
       "              ..\n",
       "1952371999     1\n",
       "1730116906     1\n",
       "1750515615     1\n",
       "1366722456     1\n",
       "1851766067     1\n",
       "1043734411     1\n",
       "1033244553     1\n",
       "1649665209     1\n",
       "1861457079     1\n",
       "1114136645     1\n",
       "1720252661     1\n",
       "1003975723     1\n",
       "1750549549     1\n",
       "1265594535     1\n",
       "1700250685     1\n",
       "1265582241     1\n",
       "1255423042     1\n",
       "1871620252     1\n",
       "1508806811     1\n",
       "1114993771     1\n",
       "1104100197     1\n",
       "1053689992     1\n",
       "1689623670     1\n",
       "1396032637     1\n",
       "1548322936     1\n",
       "1588735104     1\n",
       "1184005258     1\n",
       "1407830128     1\n",
       "1588769939     1\n",
       "1275759516     1\n",
       "Name: npi, Length: 413565, dtype: int64"
      ]
     },
     "execution_count": 329,
     "metadata": {},
     "output_type": "execute_result"
    }
   ],
   "source": [
    "#count the number of NPI\n",
    "y = sub_data['npi'].value_counts()\n",
    "y"
   ]
  },
  {
   "cell_type": "code",
   "execution_count": 330,
   "metadata": {},
   "outputs": [
    {
     "data": {
      "image/png": "[encoded data removed]",
      "text/plain": [
       "<Figure size 1080x720 with 1 Axes>"
      ]
     },
     "metadata": {},
     "output_type": "display_data"
    }
   ],
   "source": [
    "#plot the graph for statewise count of npi\n",
    "count=sub_data.groupby(['nppes_provider_state']).agg({'npi':'count'})\n",
    "fig, ax1 = plt.subplots(1,1,figsize=(15,10))\n",
    "count.plot(kind=\"bar\", ax=ax1, title=\"Statewise Count\")\n",
    "plt.rc('xtick',labelsize=30)"
   ]
  },
  {
   "cell_type": "code",
   "execution_count": 331,
   "metadata": {},
   "outputs": [],
   "source": [
    "#save the plot as a figure\n",
    "fig.savefig('statwise_count.png',dpi=200)"
   ]
  },
  {
   "cell_type": "code",
   "execution_count": 249,
   "metadata": {},
   "outputs": [],
   "source": [
    "#converting dataframe to csv for tableau\n",
    "sub_data.to_csv('sub_data.csv')"
   ]
  },
  {
   "cell_type": "code",
   "execution_count": 250,
   "metadata": {},
   "outputs": [],
   "source": [
    "#checking the response/json data using an API given by CMS using NPI number\n",
    "response = req.get(\"https://npiregistry.cms.hhs.gov/api/?version=2.1&number=1245201227\")"
   ]
  },
  {
   "cell_type": "code",
   "execution_count": 251,
   "metadata": {},
   "outputs": [
    {
     "data": {
      "text/plain": [
       "{'result_count': 1,\n",
       " 'results': [{'enumeration_type': 'NPI-1',\n",
       "   'number': 1245201227,\n",
       "   'last_updated_epoch': 1479375798,\n",
       "   'created_epoch': 1138579200,\n",
       "   'basic': {'first_name': 'JOHN',\n",
       "    'last_name': 'GRUENDEL',\n",
       "    'middle_name': 'CHARLES',\n",
       "    'credential': 'M.D.',\n",
       "    'sole_proprietor': 'NO',\n",
       "    'gender': 'M',\n",
       "    'enumeration_date': '2006-01-30',\n",
       "    'last_updated': '2016-11-17',\n",
       "    'status': 'A',\n",
       "    'name': 'GRUENDEL JOHN'},\n",
       "   'other_names': [],\n",
       "   'addresses': [{'country_code': 'US',\n",
       "     'country_name': 'United States',\n",
       "     'address_purpose': 'LOCATION',\n",
       "     'address_type': 'DOM',\n",
       "     'address_1': '672 STONELEIGH AVE',\n",
       "     'address_2': '',\n",
       "     'city': 'CARMEL',\n",
       "     'state': 'NY',\n",
       "     'postal_code': '105124634',\n",
       "     'telephone_number': '945-279-2000',\n",
       "     'fax_number': '845-279-7730'},\n",
       "    {'country_code': 'US',\n",
       "     'country_name': 'United States',\n",
       "     'address_purpose': 'MAILING',\n",
       "     'address_type': 'DOM',\n",
       "     'address_1': '110 S BEDFORD RD',\n",
       "     'address_2': 'CAREMOUNT MEDICAL PC',\n",
       "     'city': 'MOUNT KISCO',\n",
       "     'state': 'NY',\n",
       "     'postal_code': '105493446',\n",
       "     'telephone_number': '914-241-1050',\n",
       "     'fax_number': '914-242-1516'}],\n",
       "   'taxonomies': [{'code': '207RC0000X',\n",
       "     'desc': 'Internal Medicine Cardiovascular Disease',\n",
       "     'primary': True,\n",
       "     'state': 'NY',\n",
       "     'license': '175379'}],\n",
       "   'identifiers': [{'identifier': '01358130',\n",
       "     'code': '05',\n",
       "     'desc': 'MEDICAID',\n",
       "     'state': 'NY',\n",
       "     'issuer': ''}]}]}"
      ]
     },
     "execution_count": 251,
     "metadata": {},
     "output_type": "execute_result"
    }
   ],
   "source": [
    "#priting the json data for clarification\n",
    "response.json()"
   ]
  },
  {
   "cell_type": "code",
   "execution_count": 332,
   "metadata": {},
   "outputs": [
    {
     "data": {
      "text/plain": [
       "(25209130, 21)"
      ]
     },
     "execution_count": 332,
     "metadata": {},
     "output_type": "execute_result"
    }
   ],
   "source": [
    "data.shape"
   ]
  },
  {
   "cell_type": "code",
   "execution_count": 253,
   "metadata": {},
   "outputs": [
    {
     "data": {
      "text/plain": [
       "npi                                     0\n",
       "nppes_provider_last_org_name          471\n",
       "nppes_provider_first_name             351\n",
       "nppes_provider_city                     0\n",
       "nppes_provider_state                    0\n",
       "specialty_description                   0\n",
       "description_flag                        0\n",
       "drug_name                               0\n",
       "generic_name                            0\n",
       "bene_count                       15117605\n",
       "total_claim_count                       0\n",
       "total_30_day_fill_count                 0\n",
       "total_day_supply                        0\n",
       "total_drug_cost                         0\n",
       "bene_count_ge65                  21722787\n",
       "bene_count_ge65_suppress_flag     3486343\n",
       "total_claim_count_ge65           10891465\n",
       "ge65_suppress_flag               14317665\n",
       "total_30_day_fill_count_ge65     10891465\n",
       "total_day_supply_ge65            10891465\n",
       "total_drug_cost_ge65             10891465\n",
       "dtype: int64"
      ]
     },
     "execution_count": 253,
     "metadata": {},
     "output_type": "execute_result"
    }
   ],
   "source": [
    "data.isna().sum()"
   ]
  },
  {
   "cell_type": "code",
   "execution_count": 254,
   "metadata": {},
   "outputs": [],
   "source": [
    "#getting the postal code (first five digits) from json for the data visualisation on map\n",
    "p_code = response.json()['results'][0]['addresses'][0]['postal_code'][0:5]"
   ]
  },
  {
   "cell_type": "code",
   "execution_count": 333,
   "metadata": {},
   "outputs": [],
   "source": [
    "#removing the following areas from the data which are not the part of USA states \n",
    "sub_data = sub_data[sub_data.nppes_provider_state != 'XX']\n",
    "sub_data = sub_data[sub_data.nppes_provider_state != 'AA']\n",
    "sub_data = sub_data[sub_data.nppes_provider_state != 'AE']\n",
    "sub_data = sub_data[sub_data.nppes_provider_state != 'AP']\n",
    "sub_data = sub_data[sub_data.nppes_provider_state != 'AS']\n",
    "sub_data = sub_data[sub_data.nppes_provider_state != 'GU']\n",
    "sub_data = sub_data[sub_data.nppes_provider_state != 'MP']\n",
    "sub_data = sub_data[sub_data.nppes_provider_state != 'PR']\n",
    "sub_data = sub_data[sub_data.nppes_provider_state != 'VI']\n",
    "sub_data = sub_data[sub_data.nppes_provider_state != 'ZZ']\n"
   ]
  },
  {
   "cell_type": "code",
   "execution_count": 334,
   "metadata": {},
   "outputs": [
    {
     "data": {
      "text/plain": [
       "(1148099, 21)"
      ]
     },
     "execution_count": 334,
     "metadata": {},
     "output_type": "execute_result"
    }
   ],
   "source": [
    "#get the dimensions of the data\n",
    "sub_data.shape"
   ]
  },
  {
   "cell_type": "code",
   "execution_count": 335,
   "metadata": {},
   "outputs": [
    {
     "data": {
      "text/plain": [
       "npi                                   0\n",
       "nppes_provider_last_org_name         29\n",
       "nppes_provider_first_name            12\n",
       "nppes_provider_city                   0\n",
       "nppes_provider_state                  0\n",
       "specialty_description                 0\n",
       "description_flag                      0\n",
       "drug_name                             0\n",
       "generic_name                          0\n",
       "bene_count                       515008\n",
       "total_claim_count                     0\n",
       "total_30_day_fill_count               0\n",
       "total_day_supply                      0\n",
       "total_drug_cost                       0\n",
       "bene_count_ge65                  928067\n",
       "bene_count_ge65_suppress_flag    220032\n",
       "total_claim_count_ge65           555124\n",
       "ge65_suppress_flag               592975\n",
       "total_30_day_fill_count_ge65     555124\n",
       "total_day_supply_ge65            555124\n",
       "total_drug_cost_ge65             555124\n",
       "dtype: int64"
      ]
     },
     "execution_count": 335,
     "metadata": {},
     "output_type": "execute_result"
    }
   ],
   "source": [
    "#checking the null values in dataset\n",
    "sub_data.isna().sum()"
   ]
  },
  {
   "cell_type": "code",
   "execution_count": 336,
   "metadata": {},
   "outputs": [],
   "source": [
    "#copy the data in new variable for backup\n",
    "sub_data_copy = sub_data.copy()\n",
    "#sub_data.groupby('npi').size()"
   ]
  },
  {
   "cell_type": "code",
   "execution_count": 337,
   "metadata": {},
   "outputs": [
    {
     "data": {
      "text/plain": [
       "1381.814719810748"
      ]
     },
     "execution_count": 337,
     "metadata": {},
     "output_type": "execute_result"
    }
   ],
   "source": [
    "#take the mean of total_day_supply to decide the factor\n",
    "sub_data_copy['total_day_supply'].mean()"
   ]
  },
  {
   "cell_type": "code",
   "execution_count": 338,
   "metadata": {},
   "outputs": [],
   "source": [
    "#adding one column using total_day_supply if total_day_supply > 1000 then 1 else 0\n",
    "sub_data_copy['Opoid_prescriber'] = sub_data_copy['total_day_supply'].apply(lambda x: 1 if x>1000 else 0)"
   ]
  },
  {
   "cell_type": "code",
   "execution_count": 339,
   "metadata": {},
   "outputs": [
    {
     "data": {
      "text/plain": [
       "0    808052\n",
       "1    340047\n",
       "Name: Opoid_prescriber, dtype: int64"
      ]
     },
     "execution_count": 339,
     "metadata": {},
     "output_type": "execute_result"
    }
   ],
   "source": [
    "#count the number of Opoid_prescriber\n",
    "sub_data_copy['Opoid_prescriber'].value_counts()"
   ]
  },
  {
   "cell_type": "code",
   "execution_count": 340,
   "metadata": {},
   "outputs": [
    {
     "data": {
      "text/html": [
       "<div>\n",
       "<style scoped>\n",
       "    .dataframe tbody tr th:only-of-type {\n",
       "        vertical-align: middle;\n",
       "    }\n",
       "\n",
       "    .dataframe tbody tr th {\n",
       "        vertical-align: top;\n",
       "    }\n",
       "\n",
       "    .dataframe thead th {\n",
       "        text-align: right;\n",
       "    }\n",
       "</style>\n",
       "<table border=\"1\" class=\"dataframe\">\n",
       "  <thead>\n",
       "    <tr style=\"text-align: right;\">\n",
       "      <th></th>\n",
       "      <th>npi</th>\n",
       "      <th>nppes_provider_last_org_name</th>\n",
       "      <th>nppes_provider_first_name</th>\n",
       "      <th>nppes_provider_city</th>\n",
       "      <th>nppes_provider_state</th>\n",
       "      <th>specialty_description</th>\n",
       "      <th>description_flag</th>\n",
       "      <th>drug_name</th>\n",
       "      <th>generic_name</th>\n",
       "      <th>bene_count</th>\n",
       "      <th>...</th>\n",
       "      <th>total_day_supply</th>\n",
       "      <th>total_drug_cost</th>\n",
       "      <th>bene_count_ge65</th>\n",
       "      <th>bene_count_ge65_suppress_flag</th>\n",
       "      <th>total_claim_count_ge65</th>\n",
       "      <th>ge65_suppress_flag</th>\n",
       "      <th>total_30_day_fill_count_ge65</th>\n",
       "      <th>total_day_supply_ge65</th>\n",
       "      <th>total_drug_cost_ge65</th>\n",
       "      <th>Opoid_prescriber</th>\n",
       "    </tr>\n",
       "  </thead>\n",
       "  <tbody>\n",
       "    <tr>\n",
       "      <th>13</th>\n",
       "      <td>1477804466</td>\n",
       "      <td>ROBINSON</td>\n",
       "      <td>LAKEESHA</td>\n",
       "      <td>MILWAUKEE</td>\n",
       "      <td>WI</td>\n",
       "      <td>Nurse Practitioner</td>\n",
       "      <td>S</td>\n",
       "      <td>MORPHINE SULFATE ER</td>\n",
       "      <td>MORPHINE SULFATE</td>\n",
       "      <td>NaN</td>\n",
       "      <td>...</td>\n",
       "      <td>570</td>\n",
       "      <td>874.27</td>\n",
       "      <td>0.0</td>\n",
       "      <td>NaN</td>\n",
       "      <td>0.0</td>\n",
       "      <td>NaN</td>\n",
       "      <td>0.0</td>\n",
       "      <td>0.0</td>\n",
       "      <td>0.00</td>\n",
       "      <td>0</td>\n",
       "    </tr>\n",
       "    <tr>\n",
       "      <th>52</th>\n",
       "      <td>1740288091</td>\n",
       "      <td>GEHRING</td>\n",
       "      <td>DAVID</td>\n",
       "      <td>WOODBURY</td>\n",
       "      <td>NJ</td>\n",
       "      <td>Family Practice</td>\n",
       "      <td>S</td>\n",
       "      <td>HYDROCODONE-ACETAMINOPHEN</td>\n",
       "      <td>HYDROCODONE/ACETAMINOPHEN</td>\n",
       "      <td>NaN</td>\n",
       "      <td>...</td>\n",
       "      <td>745</td>\n",
       "      <td>555.88</td>\n",
       "      <td>NaN</td>\n",
       "      <td>*</td>\n",
       "      <td>NaN</td>\n",
       "      <td>*</td>\n",
       "      <td>NaN</td>\n",
       "      <td>NaN</td>\n",
       "      <td>NaN</td>\n",
       "      <td>0</td>\n",
       "    </tr>\n",
       "    <tr>\n",
       "      <th>70</th>\n",
       "      <td>1801810007</td>\n",
       "      <td>ADLER</td>\n",
       "      <td>BRIAN</td>\n",
       "      <td>SURFSIDE BEACH</td>\n",
       "      <td>SC</td>\n",
       "      <td>Internal Medicine</td>\n",
       "      <td>S</td>\n",
       "      <td>ACETAMINOPHEN-CODEINE</td>\n",
       "      <td>ACETAMINOPHEN WITH CODEINE</td>\n",
       "      <td>NaN</td>\n",
       "      <td>...</td>\n",
       "      <td>161</td>\n",
       "      <td>103.83</td>\n",
       "      <td>NaN</td>\n",
       "      <td>*</td>\n",
       "      <td>12.0</td>\n",
       "      <td>NaN</td>\n",
       "      <td>12.0</td>\n",
       "      <td>161.0</td>\n",
       "      <td>103.83</td>\n",
       "      <td>0</td>\n",
       "    </tr>\n",
       "    <tr>\n",
       "      <th>91</th>\n",
       "      <td>1437482346</td>\n",
       "      <td>GRAY</td>\n",
       "      <td>DONNA</td>\n",
       "      <td>SALISBURY</td>\n",
       "      <td>MD</td>\n",
       "      <td>Nurse Practitioner</td>\n",
       "      <td>S</td>\n",
       "      <td>TRAMADOL HCL</td>\n",
       "      <td>TRAMADOL HCL</td>\n",
       "      <td>NaN</td>\n",
       "      <td>...</td>\n",
       "      <td>675</td>\n",
       "      <td>156.69</td>\n",
       "      <td>NaN</td>\n",
       "      <td>#</td>\n",
       "      <td>NaN</td>\n",
       "      <td>#</td>\n",
       "      <td>NaN</td>\n",
       "      <td>NaN</td>\n",
       "      <td>NaN</td>\n",
       "      <td>0</td>\n",
       "    </tr>\n",
       "    <tr>\n",
       "      <th>100</th>\n",
       "      <td>1568402501</td>\n",
       "      <td>BUSCH</td>\n",
       "      <td>JULIE</td>\n",
       "      <td>SAINT LOUIS</td>\n",
       "      <td>MO</td>\n",
       "      <td>Family Practice</td>\n",
       "      <td>S</td>\n",
       "      <td>HYDROCODONE-ACETAMINOPHEN</td>\n",
       "      <td>HYDROCODONE/ACETAMINOPHEN</td>\n",
       "      <td>13.0</td>\n",
       "      <td>...</td>\n",
       "      <td>1174</td>\n",
       "      <td>1284.58</td>\n",
       "      <td>NaN</td>\n",
       "      <td>#</td>\n",
       "      <td>34.0</td>\n",
       "      <td>NaN</td>\n",
       "      <td>40.0</td>\n",
       "      <td>854.0</td>\n",
       "      <td>1089.58</td>\n",
       "      <td>1</td>\n",
       "    </tr>\n",
       "  </tbody>\n",
       "</table>\n",
       "<p>5 rows × 22 columns</p>\n",
       "</div>"
      ],
      "text/plain": [
       "            npi nppes_provider_last_org_name nppes_provider_first_name  \\\n",
       "13   1477804466                     ROBINSON                  LAKEESHA   \n",
       "52   1740288091                      GEHRING                     DAVID   \n",
       "70   1801810007                        ADLER                     BRIAN   \n",
       "91   1437482346                         GRAY                     DONNA   \n",
       "100  1568402501                        BUSCH                     JULIE   \n",
       "\n",
       "    nppes_provider_city nppes_provider_state specialty_description  \\\n",
       "13            MILWAUKEE                   WI    Nurse Practitioner   \n",
       "52             WOODBURY                   NJ       Family Practice   \n",
       "70       SURFSIDE BEACH                   SC     Internal Medicine   \n",
       "91            SALISBURY                   MD    Nurse Practitioner   \n",
       "100         SAINT LOUIS                   MO       Family Practice   \n",
       "\n",
       "    description_flag                  drug_name                generic_name  \\\n",
       "13                 S        MORPHINE SULFATE ER            MORPHINE SULFATE   \n",
       "52                 S  HYDROCODONE-ACETAMINOPHEN   HYDROCODONE/ACETAMINOPHEN   \n",
       "70                 S      ACETAMINOPHEN-CODEINE  ACETAMINOPHEN WITH CODEINE   \n",
       "91                 S               TRAMADOL HCL                TRAMADOL HCL   \n",
       "100                S  HYDROCODONE-ACETAMINOPHEN   HYDROCODONE/ACETAMINOPHEN   \n",
       "\n",
       "     bene_count  ...  total_day_supply  total_drug_cost  bene_count_ge65  \\\n",
       "13          NaN  ...               570           874.27              0.0   \n",
       "52          NaN  ...               745           555.88              NaN   \n",
       "70          NaN  ...               161           103.83              NaN   \n",
       "91          NaN  ...               675           156.69              NaN   \n",
       "100        13.0  ...              1174          1284.58              NaN   \n",
       "\n",
       "     bene_count_ge65_suppress_flag  total_claim_count_ge65 ge65_suppress_flag  \\\n",
       "13                             NaN                     0.0                NaN   \n",
       "52                               *                     NaN                  *   \n",
       "70                               *                    12.0                NaN   \n",
       "91                               #                     NaN                  #   \n",
       "100                              #                    34.0                NaN   \n",
       "\n",
       "     total_30_day_fill_count_ge65 total_day_supply_ge65  total_drug_cost_ge65  \\\n",
       "13                            0.0                   0.0                  0.00   \n",
       "52                            NaN                   NaN                   NaN   \n",
       "70                           12.0                 161.0                103.83   \n",
       "91                            NaN                   NaN                   NaN   \n",
       "100                          40.0                 854.0               1089.58   \n",
       "\n",
       "     Opoid_prescriber  \n",
       "13                  0  \n",
       "52                  0  \n",
       "70                  0  \n",
       "91                  0  \n",
       "100                 1  \n",
       "\n",
       "[5 rows x 22 columns]"
      ]
     },
     "execution_count": 340,
     "metadata": {},
     "output_type": "execute_result"
    }
   ],
   "source": [
    "#Check the data \n",
    "sub_data_copy.head()"
   ]
  },
  {
   "cell_type": "code",
   "execution_count": 341,
   "metadata": {},
   "outputs": [],
   "source": [
    "#divide the variables into categorical, dependanat, discrete adn continous variable\n",
    "categorical_vars = ['nppes_provider_state','specialty_description','nppes_provider_city']\n",
    "dep_var = ['Opoid_prescriber']\n",
    "discrete_vars = ['total_day_supply']\n",
    "continuous_vars = ['bene_count','total_day_supply_ge65','total_drug_cost','bene_count_ge65','total_30_day_fill_count_ge65','total_drug_cost_ge65']"
   ]
  },
  {
   "cell_type": "code",
   "execution_count": 342,
   "metadata": {},
   "outputs": [],
   "source": [
    "#drop teh unnecessary columns that are not required to predict the test \n",
    "\n",
    "#sub_data_copy = sub_data_copy.drop('nppes_provider_state', axis='columns')\n",
    "#sub_data_copy = sub_data_copy.drop('specialty_description', axis='columns')\n",
    "#sub_data_copy = sub_data_copy.drop('nppes_provider_city', axis='columns')\n",
    "sub_data_copy = sub_data_copy.drop('generic_name', axis='columns')\n",
    "sub_data_copy = sub_data_copy.drop('nppes_provider_last_org_name', axis='columns')\n",
    "sub_data_copy = sub_data_copy.drop('nppes_provider_first_name', axis='columns')\n",
    "sub_data_copy = sub_data_copy.drop('description_flag', axis='columns')\n",
    "sub_data_copy = sub_data_copy.drop('drug_name', axis='columns')\n",
    "sub_data_copy = sub_data_copy.drop('bene_count_ge65_suppress_flag', axis='columns')\n",
    "sub_data_copy = sub_data_copy.drop('ge65_suppress_flag', axis='columns')\n",
    "sub_data_copy = sub_data_copy.drop('total_day_supply', axis='columns')\n",
    "sub_data_copy = sub_data_copy.drop('total_claim_count_ge65', axis='columns')\n",
    "#sub_data_copy = sub_data_copy.drop('Opoid_prescriber', axis='columns')"
   ]
  },
  {
   "cell_type": "code",
   "execution_count": 343,
   "metadata": {},
   "outputs": [
    {
     "data": {
      "text/html": [
       "<div>\n",
       "<style scoped>\n",
       "    .dataframe tbody tr th:only-of-type {\n",
       "        vertical-align: middle;\n",
       "    }\n",
       "\n",
       "    .dataframe tbody tr th {\n",
       "        vertical-align: top;\n",
       "    }\n",
       "\n",
       "    .dataframe thead th {\n",
       "        text-align: right;\n",
       "    }\n",
       "</style>\n",
       "<table border=\"1\" class=\"dataframe\">\n",
       "  <thead>\n",
       "    <tr style=\"text-align: right;\">\n",
       "      <th></th>\n",
       "      <th>npi</th>\n",
       "      <th>nppes_provider_city</th>\n",
       "      <th>nppes_provider_state</th>\n",
       "      <th>specialty_description</th>\n",
       "      <th>bene_count</th>\n",
       "      <th>total_claim_count</th>\n",
       "      <th>total_30_day_fill_count</th>\n",
       "      <th>total_drug_cost</th>\n",
       "      <th>bene_count_ge65</th>\n",
       "      <th>total_30_day_fill_count_ge65</th>\n",
       "      <th>total_day_supply_ge65</th>\n",
       "      <th>total_drug_cost_ge65</th>\n",
       "      <th>Opoid_prescriber</th>\n",
       "    </tr>\n",
       "  </thead>\n",
       "  <tbody>\n",
       "    <tr>\n",
       "      <th>13</th>\n",
       "      <td>1477804466</td>\n",
       "      <td>MILWAUKEE</td>\n",
       "      <td>WI</td>\n",
       "      <td>Nurse Practitioner</td>\n",
       "      <td>NaN</td>\n",
       "      <td>19</td>\n",
       "      <td>19.0</td>\n",
       "      <td>874.27</td>\n",
       "      <td>0.0</td>\n",
       "      <td>0.0</td>\n",
       "      <td>0.0</td>\n",
       "      <td>0.00</td>\n",
       "      <td>0</td>\n",
       "    </tr>\n",
       "    <tr>\n",
       "      <th>52</th>\n",
       "      <td>1740288091</td>\n",
       "      <td>WOODBURY</td>\n",
       "      <td>NJ</td>\n",
       "      <td>Family Practice</td>\n",
       "      <td>NaN</td>\n",
       "      <td>30</td>\n",
       "      <td>30.0</td>\n",
       "      <td>555.88</td>\n",
       "      <td>NaN</td>\n",
       "      <td>NaN</td>\n",
       "      <td>NaN</td>\n",
       "      <td>NaN</td>\n",
       "      <td>0</td>\n",
       "    </tr>\n",
       "    <tr>\n",
       "      <th>70</th>\n",
       "      <td>1801810007</td>\n",
       "      <td>SURFSIDE BEACH</td>\n",
       "      <td>SC</td>\n",
       "      <td>Internal Medicine</td>\n",
       "      <td>NaN</td>\n",
       "      <td>12</td>\n",
       "      <td>12.0</td>\n",
       "      <td>103.83</td>\n",
       "      <td>NaN</td>\n",
       "      <td>12.0</td>\n",
       "      <td>161.0</td>\n",
       "      <td>103.83</td>\n",
       "      <td>0</td>\n",
       "    </tr>\n",
       "    <tr>\n",
       "      <th>91</th>\n",
       "      <td>1437482346</td>\n",
       "      <td>SALISBURY</td>\n",
       "      <td>MD</td>\n",
       "      <td>Nurse Practitioner</td>\n",
       "      <td>NaN</td>\n",
       "      <td>23</td>\n",
       "      <td>23.0</td>\n",
       "      <td>156.69</td>\n",
       "      <td>NaN</td>\n",
       "      <td>NaN</td>\n",
       "      <td>NaN</td>\n",
       "      <td>NaN</td>\n",
       "      <td>0</td>\n",
       "    </tr>\n",
       "    <tr>\n",
       "      <th>100</th>\n",
       "      <td>1568402501</td>\n",
       "      <td>SAINT LOUIS</td>\n",
       "      <td>MO</td>\n",
       "      <td>Family Practice</td>\n",
       "      <td>13.0</td>\n",
       "      <td>46</td>\n",
       "      <td>52.0</td>\n",
       "      <td>1284.58</td>\n",
       "      <td>NaN</td>\n",
       "      <td>40.0</td>\n",
       "      <td>854.0</td>\n",
       "      <td>1089.58</td>\n",
       "      <td>1</td>\n",
       "    </tr>\n",
       "  </tbody>\n",
       "</table>\n",
       "</div>"
      ],
      "text/plain": [
       "            npi nppes_provider_city nppes_provider_state  \\\n",
       "13   1477804466           MILWAUKEE                   WI   \n",
       "52   1740288091            WOODBURY                   NJ   \n",
       "70   1801810007      SURFSIDE BEACH                   SC   \n",
       "91   1437482346           SALISBURY                   MD   \n",
       "100  1568402501         SAINT LOUIS                   MO   \n",
       "\n",
       "    specialty_description  bene_count  total_claim_count  \\\n",
       "13     Nurse Practitioner         NaN                 19   \n",
       "52        Family Practice         NaN                 30   \n",
       "70      Internal Medicine         NaN                 12   \n",
       "91     Nurse Practitioner         NaN                 23   \n",
       "100       Family Practice        13.0                 46   \n",
       "\n",
       "     total_30_day_fill_count  total_drug_cost  bene_count_ge65  \\\n",
       "13                      19.0           874.27              0.0   \n",
       "52                      30.0           555.88              NaN   \n",
       "70                      12.0           103.83              NaN   \n",
       "91                      23.0           156.69              NaN   \n",
       "100                     52.0          1284.58              NaN   \n",
       "\n",
       "     total_30_day_fill_count_ge65  total_day_supply_ge65  \\\n",
       "13                            0.0                    0.0   \n",
       "52                            NaN                    NaN   \n",
       "70                           12.0                  161.0   \n",
       "91                            NaN                    NaN   \n",
       "100                          40.0                  854.0   \n",
       "\n",
       "     total_drug_cost_ge65  Opoid_prescriber  \n",
       "13                   0.00                 0  \n",
       "52                    NaN                 0  \n",
       "70                 103.83                 0  \n",
       "91                    NaN                 0  \n",
       "100               1089.58                 1  "
      ]
     },
     "execution_count": 343,
     "metadata": {},
     "output_type": "execute_result"
    }
   ],
   "source": [
    "#print the data\n",
    "sub_data_copy.head()"
   ]
  },
  {
   "cell_type": "code",
   "execution_count": 344,
   "metadata": {},
   "outputs": [],
   "source": [
    "#replace null values with mean\n",
    "for i in continuous_vars:\n",
    "    sub_data_copy[i] = sub_data_copy[i].isna().mean()"
   ]
  },
  {
   "cell_type": "code",
   "execution_count": 359,
   "metadata": {},
   "outputs": [
    {
     "name": "stdout",
     "output_type": "stream",
     "text": [
      "(746264, 13)\n",
      "(401835, 13)\n"
     ]
    }
   ],
   "source": [
    "#split data into train and test\n",
    "train,test = train_test_split(sub_data_copy,test_size=0.35,random_state=40)\n",
    "print(train.shape)\n",
    "print(test.shape)"
   ]
  },
  {
   "cell_type": "code",
   "execution_count": 360,
   "metadata": {},
   "outputs": [
    {
     "name": "stderr",
     "output_type": "stream",
     "text": [
      "C:\\Users\\harsh\\AppData\\Local\\Continuum\\anaconda3\\lib\\site-packages\\ipykernel_launcher.py:3: SettingWithCopyWarning: \n",
      "A value is trying to be set on a copy of a slice from a DataFrame.\n",
      "Try using .loc[row_indexer,col_indexer] = value instead\n",
      "\n",
      "See the caveats in the documentation: http://pandas.pydata.org/pandas-docs/stable/indexing.html#indexing-view-versus-copy\n",
      "  This is separate from the ipykernel package so we can avoid doing imports until\n",
      "C:\\Users\\harsh\\AppData\\Local\\Continuum\\anaconda3\\lib\\site-packages\\ipykernel_launcher.py:4: SettingWithCopyWarning: \n",
      "A value is trying to be set on a copy of a slice from a DataFrame.\n",
      "Try using .loc[row_indexer,col_indexer] = value instead\n",
      "\n",
      "See the caveats in the documentation: http://pandas.pydata.org/pandas-docs/stable/indexing.html#indexing-view-versus-copy\n",
      "  after removing the cwd from sys.path.\n"
     ]
    }
   ],
   "source": [
    "#factorize categorical data\n",
    "for col in categorical_vars:\n",
    "    train[col]=pd.factorize(train[col], sort=True)[0]\n",
    "    test[col] =pd.factorize(test[col],sort=True)[0]"
   ]
  },
  {
   "cell_type": "code",
   "execution_count": 357,
   "metadata": {},
   "outputs": [
    {
     "data": {
      "text/plain": [
       "(746264, 11)"
      ]
     },
     "execution_count": 357,
     "metadata": {},
     "output_type": "execute_result"
    }
   ],
   "source": [
    "#take features from train\n",
    "features=train.iloc[:,1:12] #make sure we only use the columns that we want as our features\n",
    "features.head()\n",
    "features.shape"
   ]
  },
  {
   "cell_type": "code",
   "execution_count": 358,
   "metadata": {},
   "outputs": [
    {
     "data": {
      "text/html": [
       "<div>\n",
       "<style scoped>\n",
       "    .dataframe tbody tr th:only-of-type {\n",
       "        vertical-align: middle;\n",
       "    }\n",
       "\n",
       "    .dataframe tbody tr th {\n",
       "        vertical-align: top;\n",
       "    }\n",
       "\n",
       "    .dataframe thead th {\n",
       "        text-align: right;\n",
       "    }\n",
       "</style>\n",
       "<table border=\"1\" class=\"dataframe\">\n",
       "  <thead>\n",
       "    <tr style=\"text-align: right;\">\n",
       "      <th></th>\n",
       "      <th>nppes_provider_state</th>\n",
       "      <th>specialty_description</th>\n",
       "      <th>bene_count</th>\n",
       "      <th>total_claim_count</th>\n",
       "      <th>total_30_day_fill_count</th>\n",
       "      <th>total_drug_cost</th>\n",
       "      <th>bene_count_ge65</th>\n",
       "      <th>total_30_day_fill_count_ge65</th>\n",
       "      <th>total_day_supply_ge65</th>\n",
       "      <th>total_drug_cost_ge65</th>\n",
       "      <th>Opoid_prescriber</th>\n",
       "    </tr>\n",
       "  </thead>\n",
       "  <tbody>\n",
       "    <tr>\n",
       "      <th>22235484</th>\n",
       "      <td>10</td>\n",
       "      <td>50</td>\n",
       "      <td>0.448575</td>\n",
       "      <td>33</td>\n",
       "      <td>33.5</td>\n",
       "      <td>0.0</td>\n",
       "      <td>0.808351</td>\n",
       "      <td>0.483516</td>\n",
       "      <td>0.483516</td>\n",
       "      <td>0.483516</td>\n",
       "      <td>0</td>\n",
       "    </tr>\n",
       "    <tr>\n",
       "      <th>22883215</th>\n",
       "      <td>48</td>\n",
       "      <td>69</td>\n",
       "      <td>0.448575</td>\n",
       "      <td>118</td>\n",
       "      <td>118.0</td>\n",
       "      <td>0.0</td>\n",
       "      <td>0.808351</td>\n",
       "      <td>0.483516</td>\n",
       "      <td>0.483516</td>\n",
       "      <td>0.483516</td>\n",
       "      <td>1</td>\n",
       "    </tr>\n",
       "    <tr>\n",
       "      <th>19639695</th>\n",
       "      <td>43</td>\n",
       "      <td>33</td>\n",
       "      <td>0.448575</td>\n",
       "      <td>616</td>\n",
       "      <td>616.0</td>\n",
       "      <td>0.0</td>\n",
       "      <td>0.808351</td>\n",
       "      <td>0.483516</td>\n",
       "      <td>0.483516</td>\n",
       "      <td>0.483516</td>\n",
       "      <td>1</td>\n",
       "    </tr>\n",
       "    <tr>\n",
       "      <th>3066498</th>\n",
       "      <td>37</td>\n",
       "      <td>9</td>\n",
       "      <td>0.448575</td>\n",
       "      <td>56</td>\n",
       "      <td>56.0</td>\n",
       "      <td>0.0</td>\n",
       "      <td>0.808351</td>\n",
       "      <td>0.483516</td>\n",
       "      <td>0.483516</td>\n",
       "      <td>0.483516</td>\n",
       "      <td>1</td>\n",
       "    </tr>\n",
       "    <tr>\n",
       "      <th>14628755</th>\n",
       "      <td>47</td>\n",
       "      <td>69</td>\n",
       "      <td>0.448575</td>\n",
       "      <td>94</td>\n",
       "      <td>94.0</td>\n",
       "      <td>0.0</td>\n",
       "      <td>0.808351</td>\n",
       "      <td>0.483516</td>\n",
       "      <td>0.483516</td>\n",
       "      <td>0.483516</td>\n",
       "      <td>1</td>\n",
       "    </tr>\n",
       "  </tbody>\n",
       "</table>\n",
       "</div>"
      ],
      "text/plain": [
       "          nppes_provider_state  specialty_description  bene_count  \\\n",
       "22235484                    10                     50    0.448575   \n",
       "22883215                    48                     69    0.448575   \n",
       "19639695                    43                     33    0.448575   \n",
       "3066498                     37                      9    0.448575   \n",
       "14628755                    47                     69    0.448575   \n",
       "\n",
       "          total_claim_count  total_30_day_fill_count  total_drug_cost  \\\n",
       "22235484                 33                     33.5              0.0   \n",
       "22883215                118                    118.0              0.0   \n",
       "19639695                616                    616.0              0.0   \n",
       "3066498                  56                     56.0              0.0   \n",
       "14628755                 94                     94.0              0.0   \n",
       "\n",
       "          bene_count_ge65  total_30_day_fill_count_ge65  \\\n",
       "22235484         0.808351                      0.483516   \n",
       "22883215         0.808351                      0.483516   \n",
       "19639695         0.808351                      0.483516   \n",
       "3066498          0.808351                      0.483516   \n",
       "14628755         0.808351                      0.483516   \n",
       "\n",
       "          total_day_supply_ge65  total_drug_cost_ge65  Opoid_prescriber  \n",
       "22235484               0.483516              0.483516                 0  \n",
       "22883215               0.483516              0.483516                 1  \n",
       "19639695               0.483516              0.483516                 1  \n",
       "3066498                0.483516              0.483516                 1  \n",
       "14628755               0.483516              0.483516                 1  "
      ]
     },
     "execution_count": 358,
     "metadata": {},
     "output_type": "execute_result"
    }
   ],
   "source": [
    "features.head()"
   ]
  },
  {
   "cell_type": "code",
   "execution_count": 354,
   "metadata": {},
   "outputs": [
    {
     "data": {
      "text/plain": [
       "(401835, 12)"
      ]
     },
     "execution_count": 354,
     "metadata": {},
     "output_type": "execute_result"
    }
   ],
   "source": [
    "#train and test data\n",
    "train=train.iloc[:,1:]\n",
    "test=test.iloc[:,1:]\n",
    "train.shape\n",
    "test.shape"
   ]
  },
  {
   "cell_type": "code",
   "execution_count": 361,
   "metadata": {},
   "outputs": [
    {
     "name": "stdout",
     "output_type": "stream",
     "text": [
      "Accuracy: 0.864120 of model Logistic Regression\n",
      "Accuracy: 0.976033 of model KNN\n"
     ]
    }
   ],
   "source": [
    "#model for predict \n",
    "target = train['Opoid_prescriber']\n",
    "Name = []\n",
    "Accuracy = []\n",
    "model1=LogisticRegression(random_state=20,C=0.00000001,solver='liblinear',max_iter=200)\n",
    "model2=KNeighborsClassifier()\n",
    "for model, label in zip([model1, model2], ['Logistic Regression','KNN']):\n",
    "    scores = cross_val_score(model, features, target, cv=5, scoring='accuracy')\n",
    "    Accuracy.append(scores.mean())\n",
    "    Name.append(model.__class__.__name__)\n",
    "    print(\"Accuracy: %f of model %s\" % (scores.mean(),label))\n"
   ]
  },
  {
   "cell_type": "code",
   "execution_count": 281,
   "metadata": {},
   "outputs": [],
   "source": [
    "import seaborn as sns"
   ]
  },
  {
   "cell_type": "code",
   "execution_count": null,
   "metadata": {},
   "outputs": [],
   "source": [
    "sns.pairplot(sub_data_copy, kind = 'reg')\n",
    "plt.show()"
   ]
  },
  {
   "cell_type": "code",
   "execution_count": null,
   "metadata": {},
   "outputs": [],
   "source": []
  }
 ],
 "metadata": {
  "kernelspec": {
   "display_name": "Python 3",
   "language": "python",
   "name": "python3"
  },
  "language_info": {
   "codemirror_mode": {
    "name": "ipython",
    "version": 3
   },
   "file_extension": ".py",
   "mimetype": "text/x-python",
   "name": "python",
   "nbconvert_exporter": "python",
   "pygments_lexer": "ipython3",
   "version": "3.7.3"
  }
 },
 "nbformat": 4,
 "nbformat_minor": 2
}
